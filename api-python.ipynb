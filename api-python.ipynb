{
 "cells": [
  {
   "cell_type": "markdown",
   "id": "f9e1e962",
   "metadata": {},
   "source": [
    "# 1 - Configurando o Ambiente no Anaconda"
   ]
  },
  {
   "cell_type": "code",
   "execution_count": 1,
   "id": "5cb8b9c6",
   "metadata": {},
   "outputs": [],
   "source": [
    "#!conda env create -f environment.yml\n",
    "\n",
    "!conda activate api"
   ]
  },
  {
   "cell_type": "markdown",
   "id": "7ef97947",
   "metadata": {},
   "source": [
    "# 2 - Importando as bibliotecas necessárias"
   ]
  },
  {
   "cell_type": "code",
   "execution_count": 2,
   "id": "605a6dfe",
   "metadata": {},
   "outputs": [
    {
     "ename": "ModuleNotFoundError",
     "evalue": "No module named 'basedosdados'",
     "output_type": "error",
     "traceback": [
      "\u001b[1;31m---------------------------------------------------------------------------\u001b[0m",
      "\u001b[1;31mModuleNotFoundError\u001b[0m                       Traceback (most recent call last)",
      "Cell \u001b[1;32mIn[2], line 2\u001b[0m\n\u001b[0;32m      1\u001b[0m \u001b[38;5;28;01mimport\u001b[39;00m \u001b[38;5;21;01mpandas\u001b[39;00m \u001b[38;5;28;01mas\u001b[39;00m \u001b[38;5;21;01mpd\u001b[39;00m\n\u001b[1;32m----> 2\u001b[0m \u001b[38;5;28;01mimport\u001b[39;00m \u001b[38;5;21;01mbasedosdados\u001b[39;00m \u001b[38;5;28;01mas\u001b[39;00m \u001b[38;5;21;01mbd\u001b[39;00m\n",
      "\u001b[1;31mModuleNotFoundError\u001b[0m: No module named 'basedosdados'"
     ]
    }
   ],
   "source": [
    "import pandas as pd\n",
    "import basedosdados as bd"
   ]
  },
  {
   "cell_type": "markdown",
   "id": "942dcad1",
   "metadata": {},
   "source": [
    "# 3 - Carregando os dados"
   ]
  },
  {
   "cell_type": "code",
   "execution_count": null,
   "id": "7b450e89",
   "metadata": {},
   "outputs": [],
   "source": [
    "import basedosdados as bd\n",
    "\n",
    "# Para carregar o dado direto no pandas\n",
    "df = bd.read_table(dataset_id='br_me_cnpj',\n",
    "                   table_id='empresas',\n",
    "                   billing_project_id=\"api-python-387016\", \n",
    "                   reauth=True,\n",
    "                   limit=100000)"
   ]
  },
  {
   "cell_type": "markdown",
   "id": "b56349d8",
   "metadata": {},
   "source": [
    "## Dicionário de Dados"
   ]
  },
  {
   "cell_type": "markdown",
   "id": "d7050a7d",
   "metadata": {},
   "source": [
    "|Nome                    |Tipo De Dado|Descrição                    |Cobertura Temporal|Coluna Correspondente Nos Diretórios|Unidade De Medida|Contém Dados Sensíveis (LGPD)|Observações|\n",
    "|------------------------|----------------|-----------------------------|------------------|------------------------------------|-----------------|-----------------------------|-----------|\n",
    "|capital_social          |FLOAT         |Capital Social               |Novembro de 2021  |Não listado                         |BRL              |Não listado                  |Não listado|\n",
    "|data                    |DATE            |Data                         |Novembro de 2021  |Não listado                         |Não listado      |Não listado                  |Não listado|\n",
    "|ente_federativo         |STRING          |Ente Federativo              |Novembro de 2021  |Não listado                         |Não listado      |Não listado                  |Não listado|\n",
    "|natureza_juridica       |STRING          |Natureza Jurídica            |Novembro de 2021  |Não listado                         |Não listado      |Não listado                  |Não listado|\n",
    "|porte                   |STRING          |Porte                        |Novembro de 2021  |Não listado                         |Não listado      |Não listado                  |Não listado|\n",
    "|qualificacao_responsavel|STRING          |Qualificação do/a Responsável|Novembro de 2021  |Não listado                         |Não listado      |Não listado                  |Não listado|\n",
    "|razao_social            |STRING          |Razão Social                 |Novembro de 2021  |Não listado                         |Não listado      |Não listado                  |Não listado|"
   ]
  },
  {
   "cell_type": "markdown",
   "id": "fa007144",
   "metadata": {},
   "source": [
    "# 4 - Explorando os dados"
   ]
  },
  {
   "cell_type": "code",
   "execution_count": null,
   "id": "7eb9be7f",
   "metadata": {},
   "outputs": [],
   "source": [
    "df.head()"
   ]
  },
  {
   "cell_type": "code",
   "execution_count": null,
   "id": "593c3717",
   "metadata": {
    "scrolled": true
   },
   "outputs": [],
   "source": [
    "# Verificando se os valores da coluna 'capital_social' são do tipo float.\n",
    "df.dtypes"
   ]
  },
  {
   "cell_type": "code",
   "execution_count": null,
   "id": "d5ea5f18",
   "metadata": {},
   "outputs": [],
   "source": [
    "# visualizando dados ausentes\n",
    "df.notnull().sum()"
   ]
  },
  {
   "cell_type": "code",
   "execution_count": null,
   "id": "1ddd092d",
   "metadata": {},
   "outputs": [],
   "source": [
    "df['data'].unique()"
   ]
  },
  {
   "cell_type": "code",
   "execution_count": null,
   "id": "f2731c1b",
   "metadata": {
    "scrolled": true
   },
   "outputs": [],
   "source": [
    "# Melhorando a visibilidade das cidades/estados\n",
    "datas = df['data'].unique()\n",
    "\n",
    "for n in datas:\n",
    "    print(n)"
   ]
  },
  {
   "cell_type": "code",
   "execution_count": null,
   "id": "372f0e44",
   "metadata": {
    "scrolled": true
   },
   "outputs": [],
   "source": [
    "# Melhorando a visibilidade das cidades/estados\n",
    "locais = df['ente_federativo'].unique()\n",
    "\n",
    "for n in locais:\n",
    "    print(n)"
   ]
  },
  {
   "cell_type": "code",
   "execution_count": null,
   "id": "783c657d",
   "metadata": {
    "scrolled": true
   },
   "outputs": [],
   "source": [
    "# Melhorando a visibilidade das cidades/estados\n",
    "porte = df['porte'].unique()\n",
    "\n",
    "for n in porte:\n",
    "    print(n)"
   ]
  },
  {
   "cell_type": "code",
   "execution_count": null,
   "id": "42a7a222",
   "metadata": {
    "scrolled": true
   },
   "outputs": [],
   "source": [
    "# Melhorando a visibilidade das cidades\n",
    "naturezas = df['natureza_juridica'].unique()\n",
    "\n",
    "for n in naturezas:\n",
    "    print(n)"
   ]
  },
  {
   "cell_type": "code",
   "execution_count": null,
   "id": "e1ab799f",
   "metadata": {
    "scrolled": true
   },
   "outputs": [],
   "source": [
    "# Excluindo possil dado sensível\n",
    "df.drop(columns='cnpj_basico', inplace=True)"
   ]
  },
  {
   "cell_type": "markdown",
   "id": "76b498f3",
   "metadata": {},
   "source": [
    "# 5 - Gerando a Busaca na Tabela"
   ]
  },
  {
   "cell_type": "code",
   "execution_count": null,
   "id": "35e25a3a",
   "metadata": {},
   "outputs": [],
   "source": []
  },
  {
   "cell_type": "code",
   "execution_count": null,
   "id": "5cf90c86",
   "metadata": {},
   "outputs": [],
   "source": [
    "df.head()"
   ]
  },
  {
   "cell_type": "code",
   "execution_count": null,
   "id": "4ad241a7",
   "metadata": {},
   "outputs": [],
   "source": [
    "# Salvando em variaveis as buscas do usuario\n",
    "porte_empresa = input(\"Qual o porte da empresa (1, 3 ou 5): \")\n",
    "localidade_empresa = input(\"Qual a localidade da empresa: \")\n",
    "natureza_juridica = input(\"Qual a natureza juridica: \")\n",
    "baixar = input(\"Deseja baixar a busca?\\n 1 Baixar\\n 2 Apenas Retornar a Tabela\\n:\")\n",
    "nome = input(\"Qual o nome do arquivo (Caso queira salvar a busca): \")\n",
    "\n",
    "\n",
    "# Gerando a busca de forma fragmentada na tabela df\n",
    "busca_1 = df.loc[df['porte'] == porte_empresa]\n",
    "busca_2 = df.loc[df['porte'] == localidade_empresa]\n",
    "busca_3 = df.loc[df['porte'] == natureza_juridica]\n",
    "\n",
    "df_busca = pd.concat([busca_1, busca_2, busca_3])\n",
    "\n",
    "if baixar == '1' and len(nome) > 0:\n",
    "    display(df_busca)\n",
    "    df_busca.to_excel(f'buscas/{nome}.xlsx')\n",
    "\n",
    "elif baixar == '2':\n",
    "    display(df_busca)\n",
    "\n",
    "else:\n",
    "    print(\"Informe apenas as opções corretas para baixar o apenas visalizar a busca\")"
   ]
  }
 ],
 "metadata": {
  "kernelspec": {
   "display_name": "Python 3 (ipykernel)",
   "language": "python",
   "name": "python3"
  },
  "language_info": {
   "codemirror_mode": {
    "name": "ipython",
    "version": 3
   },
   "file_extension": ".py",
   "mimetype": "text/x-python",
   "name": "python",
   "nbconvert_exporter": "python",
   "pygments_lexer": "ipython3",
   "version": "3.10.9"
  }
 },
 "nbformat": 4,
 "nbformat_minor": 5
}
