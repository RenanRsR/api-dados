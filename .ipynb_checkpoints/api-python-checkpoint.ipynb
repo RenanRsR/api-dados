{
 "cells": [
  {
   "cell_type": "markdown",
   "id": "f9e1e962",
   "metadata": {},
   "source": [
    "# 1 - Configurando o Ambiente no Anaconda"
   ]
  },
  {
   "cell_type": "code",
   "execution_count": 1,
   "id": "5cb8b9c6",
   "metadata": {},
   "outputs": [],
   "source": [
    "!conda env create -f environment.yml\n",
    "\n",
    "!conda activate api"
   ]
  },
  {
   "cell_type": "markdown",
   "id": "7ef97947",
   "metadata": {},
   "source": [
    "# 2 - Importando as bibliotecas necessárias"
   ]
  },
  {
   "cell_type": "code",
   "execution_count": 2,
   "id": "605a6dfe",
   "metadata": {},
   "outputs": [],
   "source": [
    "import pandas as pd\n",
    "import basedosdados as bd"
   ]
  },
  {
   "cell_type": "markdown",
   "id": "942dcad1",
   "metadata": {},
   "source": [
    "# 3 - Carregando os dados"
   ]
  },
  {
   "cell_type": "code",
   "execution_count": 3,
   "id": "7b450e89",
   "metadata": {},
   "outputs": [
    {
     "name": "stdout",
     "output_type": "stream",
     "text": [
      "Please visit this URL to authorize this application: https://accounts.google.com/o/oauth2/auth?response_type=code&client_id=262006177488-3425ks60hkk80fssi9vpohv88g6q1iqd.apps.googleusercontent.com&redirect_uri=http%3A%2F%2Flocalhost%3A8080%2F&scope=https%3A%2F%2Fwww.googleapis.com%2Fauth%2Fcloud-platform&state=IwTqQkoH9nxPKghLGJLQFERuuctvEd&access_type=offline\n"
     ]
    },
    {
     "name": "stderr",
     "output_type": "stream",
     "text": [
      "Downloading: 100%|██████████████████████████████████████████████████████| 100000/100000 [00:16<00:00, 6100.56rows/s]\n"
     ]
    }
   ],
   "source": [
    "import basedosdados as bd\n",
    "\n",
    "# Para carregar o dado direto no pandas\n",
    "df = bd.read_table(dataset_id='br_me_cnpj',\n",
    "                   table_id='empresas',\n",
    "                   billing_project_id=\"api-python-387016\", \n",
    "                   reauth=True,\n",
    "                   limit=100000)"
   ]
  },
  {
   "cell_type": "markdown",
   "id": "b56349d8",
   "metadata": {},
   "source": [
    "## Dicionário de Dados"
   ]
  },
  {
   "attachments": {},
   "cell_type": "markdown",
   "id": "d7050a7d",
   "metadata": {},
   "source": [
    "|Nome                    |Tipo De Dado|Descrição                    |Cobertura Temporal|Coluna Correspondente Nos Diretórios|Unidade De Medida|Contém Dados Sensíveis (LGPD)|Observações|\n",
    "|------------------------|----------------|-----------------------------|------------------|------------------------------------|-----------------|-----------------------------|-----------|\n",
    "|capital_social          |FLOAT         |Capital Social               |Novembro de 2021  |Não listado                         |BRL              |Não listado                  |Não listado|\n",
    "|data                    |DATE            |Data                         |Novembro de 2021  |Não listado                         |Não listado      |Não listado                  |Não listado|\n",
    "|ente_federativo         |STRING          |Ente Federativo              |Novembro de 2021  |Não listado                         |Não listado      |Não listado                  |Não listado|\n",
    "|natureza_juridica       |STRING          |Natureza Jurídica            |Novembro de 2021  |Não listado                         |Não listado      |Não listado                  |Não listado|\n",
    "|porte                   |STRING          |Porte                        |Novembro de 2021  |Não listado                         |Não listado      |Não listado                  |Não listado|\n",
    "|qualificacao_responsavel|STRING          |Qualificação do/a Responsável|Novembro de 2021  |Não listado                         |Não listado      |Não listado                  |Não listado|\n",
    "|razao_social            |STRING          |Razão Social                 |Novembro de 2021  |Não listado                         |Não listado      |Não listado                  |Não listado|"
   ]
  },
  {
   "cell_type": "markdown",
   "id": "fa007144",
   "metadata": {},
   "source": [
    "# 4 - Explorando os dados"
   ]
  },
  {
   "cell_type": "code",
   "execution_count": 4,
   "id": "7eb9be7f",
   "metadata": {},
   "outputs": [
    {
     "data": {
      "text/html": [
       "<div>\n",
       "<style scoped>\n",
       "    .dataframe tbody tr th:only-of-type {\n",
       "        vertical-align: middle;\n",
       "    }\n",
       "\n",
       "    .dataframe tbody tr th {\n",
       "        vertical-align: top;\n",
       "    }\n",
       "\n",
       "    .dataframe thead th {\n",
       "        text-align: right;\n",
       "    }\n",
       "</style>\n",
       "<table border=\"1\" class=\"dataframe\">\n",
       "  <thead>\n",
       "    <tr style=\"text-align: right;\">\n",
       "      <th></th>\n",
       "      <th>data</th>\n",
       "      <th>cnpj_basico</th>\n",
       "      <th>razao_social</th>\n",
       "      <th>natureza_juridica</th>\n",
       "      <th>qualificacao_responsavel</th>\n",
       "      <th>capital_social</th>\n",
       "      <th>porte</th>\n",
       "      <th>ente_federativo</th>\n",
       "    </tr>\n",
       "  </thead>\n",
       "  <tbody>\n",
       "    <tr>\n",
       "      <th>0</th>\n",
       "      <td>2021-11-23</td>\n",
       "      <td>22967244</td>\n",
       "      <td>NERY, ATHAYDE E ROCHA LTDA</td>\n",
       "      <td>2062</td>\n",
       "      <td>49</td>\n",
       "      <td>300000.0</td>\n",
       "      <td>5</td>\n",
       "      <td>None</td>\n",
       "    </tr>\n",
       "    <tr>\n",
       "      <th>1</th>\n",
       "      <td>2021-11-23</td>\n",
       "      <td>22967263</td>\n",
       "      <td>FIBRA FORTE DISTRIBUICAO E LOGISTICA EIRELI</td>\n",
       "      <td>2305</td>\n",
       "      <td>65</td>\n",
       "      <td>105000.0</td>\n",
       "      <td>1</td>\n",
       "      <td>None</td>\n",
       "    </tr>\n",
       "    <tr>\n",
       "      <th>2</th>\n",
       "      <td>2021-11-23</td>\n",
       "      <td>22967281</td>\n",
       "      <td>ANTONIO FRANCISCO DO NASCIMENTO 11159468893</td>\n",
       "      <td>2135</td>\n",
       "      <td>50</td>\n",
       "      <td>1665.0</td>\n",
       "      <td>1</td>\n",
       "      <td>None</td>\n",
       "    </tr>\n",
       "    <tr>\n",
       "      <th>3</th>\n",
       "      <td>2021-11-23</td>\n",
       "      <td>22967290</td>\n",
       "      <td>CILENE MELO DE FREITAS 45500240200</td>\n",
       "      <td>2135</td>\n",
       "      <td>50</td>\n",
       "      <td>2.0</td>\n",
       "      <td>1</td>\n",
       "      <td>None</td>\n",
       "    </tr>\n",
       "    <tr>\n",
       "      <th>4</th>\n",
       "      <td>2021-11-23</td>\n",
       "      <td>22967298</td>\n",
       "      <td>ESPECIAL PUBLICIDADE E PROPAGANDA LTDA</td>\n",
       "      <td>2062</td>\n",
       "      <td>49</td>\n",
       "      <td>200000.0</td>\n",
       "      <td>1</td>\n",
       "      <td>None</td>\n",
       "    </tr>\n",
       "  </tbody>\n",
       "</table>\n",
       "</div>"
      ],
      "text/plain": [
       "         data cnpj_basico                                 razao_social  \\\n",
       "0  2021-11-23    22967244                   NERY, ATHAYDE E ROCHA LTDA   \n",
       "1  2021-11-23    22967263  FIBRA FORTE DISTRIBUICAO E LOGISTICA EIRELI   \n",
       "2  2021-11-23    22967281  ANTONIO FRANCISCO DO NASCIMENTO 11159468893   \n",
       "3  2021-11-23    22967290           CILENE MELO DE FREITAS 45500240200   \n",
       "4  2021-11-23    22967298       ESPECIAL PUBLICIDADE E PROPAGANDA LTDA   \n",
       "\n",
       "  natureza_juridica qualificacao_responsavel  capital_social porte  \\\n",
       "0              2062                       49        300000.0     5   \n",
       "1              2305                       65        105000.0     1   \n",
       "2              2135                       50          1665.0     1   \n",
       "3              2135                       50             2.0     1   \n",
       "4              2062                       49        200000.0     1   \n",
       "\n",
       "  ente_federativo  \n",
       "0            None  \n",
       "1            None  \n",
       "2            None  \n",
       "3            None  \n",
       "4            None  "
      ]
     },
     "execution_count": 4,
     "metadata": {},
     "output_type": "execute_result"
    }
   ],
   "source": [
    "df.head()"
   ]
  },
  {
   "cell_type": "code",
   "execution_count": 5,
   "id": "593c3717",
   "metadata": {
    "scrolled": true
   },
   "outputs": [
    {
     "data": {
      "text/plain": [
       "data                         dbdate\n",
       "cnpj_basico                  object\n",
       "razao_social                 object\n",
       "natureza_juridica            object\n",
       "qualificacao_responsavel     object\n",
       "capital_social              float64\n",
       "porte                        object\n",
       "ente_federativo              object\n",
       "dtype: object"
      ]
     },
     "execution_count": 5,
     "metadata": {},
     "output_type": "execute_result"
    }
   ],
   "source": [
    "# Verificando se os valores da coluna 'capital_social' são do tipo float.\n",
    "df.dtypes"
   ]
  },
  {
   "cell_type": "code",
   "execution_count": 6,
   "id": "d5ea5f18",
   "metadata": {},
   "outputs": [
    {
     "data": {
      "text/plain": [
       "data                        100000\n",
       "cnpj_basico                 100000\n",
       "razao_social                100000\n",
       "natureza_juridica           100000\n",
       "qualificacao_responsavel    100000\n",
       "capital_social              100000\n",
       "porte                        99797\n",
       "ente_federativo                 79\n",
       "dtype: int64"
      ]
     },
     "execution_count": 6,
     "metadata": {},
     "output_type": "execute_result"
    }
   ],
   "source": [
    "# visualizando dados ausentes\n",
    "df.notnull().sum()"
   ]
  },
  {
   "cell_type": "code",
   "execution_count": 7,
   "id": "1ddd092d",
   "metadata": {},
   "outputs": [
    {
     "data": {
      "text/plain": [
       "<DateArray>\n",
       "[datetime.date(2021, 11, 23)]\n",
       "Length: 1, dtype: dbdate"
      ]
     },
     "execution_count": 7,
     "metadata": {},
     "output_type": "execute_result"
    }
   ],
   "source": [
    "df['data'].unique()"
   ]
  },
  {
   "cell_type": "code",
   "execution_count": 8,
   "id": "f2731c1b",
   "metadata": {
    "scrolled": true
   },
   "outputs": [
    {
     "name": "stdout",
     "output_type": "stream",
     "text": [
      "2021-11-23\n"
     ]
    }
   ],
   "source": [
    "# Melhorando a visibilidade das cidades/estados\n",
    "datas = df['data'].unique()\n",
    "\n",
    "for n in datas:\n",
    "    print(n)"
   ]
  },
  {
   "cell_type": "code",
   "execution_count": 9,
   "id": "372f0e44",
   "metadata": {
    "scrolled": true
   },
   "outputs": [
    {
     "name": "stdout",
     "output_type": "stream",
     "text": [
      "None\n",
      "UNIÃO\n",
      "OURILANDIA DO NORTE - PA\n",
      "GARRAFAO DO NORTE - PA\n",
      "PARA\n",
      "PARAUAPEBAS - PA\n",
      "TUCUMA - PA\n",
      "SAO JOAO DE PIRABAS - PA\n",
      "PACAJA - PA\n",
      "RUROPOLIS - PA\n",
      "MARIALVA - PR\n",
      "GOIANDIRA - GO\n",
      "OLIVEIRA - MG\n",
      "CACONDE - SP\n",
      "SANTO ANTONIO DO LESTE - MT\n",
      "NOVA MAMORE - RO\n",
      "PRACUUBA - AP\n",
      "SANTANA DO MATOS - RN\n",
      "MARILANDIA - ES\n",
      "ITAMARATI - AM\n",
      "UARINI - AM\n",
      "MIRADOR - PR\n",
      "TRIUNFO - PB\n",
      "CAREIRO DA VARZEA - AM\n",
      "AMAZONAS\n",
      "SANTA RITA DO PASSA QUATRO - SP\n",
      "MANACAPURU - AM\n",
      "GUANHAES - MG\n",
      "SANTAREM - PA\n",
      "CRUZ DO ESPIRITO SANTO - PB\n",
      "ARAGUAIANA - MT\n",
      "GLORIA - BA\n",
      "BREVES - PA\n",
      "SAO FRANCISCO DO SUL - SC\n",
      "NHAMUNDA - AM\n",
      "SORRISO - MT\n",
      "TANGARA DA SERRA - MT\n",
      "TAPURAH - MT\n",
      "LAJEADO - RS\n",
      "OLIMPIA - SP\n",
      "PIRANHAS - GO\n",
      "ITAPECERICA DA SERRA - SP\n",
      "SABAUDIA - PR\n",
      "URUCARA - AM\n",
      "URUARA - PA\n",
      "ALENQUER - PA\n",
      "FARO - PA\n",
      "MONTE ALEGRE - PA\n",
      "TARTARUGALZINHO - AP\n",
      "NOVO PROGRESSO - PA\n",
      "SANTA MARIA DO OESTE - PR\n",
      "JURUTI - PA\n",
      "ALTO TAQUARI - MT\n",
      "PARECIS - RO\n",
      "BARRA DE SANTO ANTONIO - AL\n",
      "CONDE - PB\n",
      "CORBELIA - PR\n",
      "RONDONIA\n",
      "TERRA SANTA - PA\n",
      "BOA VISTA DO BURICA - RS\n",
      "TRAIRAO - PA\n",
      "ITAITUBA - PA\n",
      "DUAS BARRAS - RJ\n",
      "SANTANA - AP\n",
      "FERREIRA GOMES - AP\n",
      "LARANJAL DO JARI - AP\n",
      "FORQUETINHA - RS\n",
      "SANTA FE DE MINAS - MG\n"
     ]
    }
   ],
   "source": [
    "# Melhorando a visibilidade das cidades/estados\n",
    "locais = df['ente_federativo'].unique()\n",
    "\n",
    "for n in locais:\n",
    "    print(n)"
   ]
  },
  {
   "cell_type": "code",
   "execution_count": 10,
   "id": "783c657d",
   "metadata": {
    "scrolled": true
   },
   "outputs": [
    {
     "name": "stdout",
     "output_type": "stream",
     "text": [
      "5\n",
      "1\n",
      "3\n",
      "None\n"
     ]
    }
   ],
   "source": [
    "# Melhorando a visibilidade das cidades/estados\n",
    "porte = df['porte'].unique()\n",
    "\n",
    "for n in porte:\n",
    "    print(n)"
   ]
  },
  {
   "cell_type": "code",
   "execution_count": 11,
   "id": "42a7a222",
   "metadata": {
    "scrolled": true
   },
   "outputs": [
    {
     "name": "stdout",
     "output_type": "stream",
     "text": [
      "2062\n",
      "2305\n",
      "2135\n",
      "2054\n",
      "2240\n",
      "2127\n",
      "2143\n",
      "2232\n",
      "2313\n",
      "2038\n",
      "2321\n",
      "4014\n",
      "3220\n",
      "3999\n",
      "4120\n",
      "3085\n",
      "1104\n",
      "3271\n",
      "2224\n",
      "3301\n",
      "2151\n",
      "3212\n",
      "2216\n",
      "2070\n",
      "3069\n",
      "3131\n",
      "2046\n",
      "1244\n",
      "1066\n",
      "1147\n",
      "3034\n",
      "1333\n",
      "1180\n",
      "1120\n",
      "2160\n",
      "5029\n",
      "1031\n",
      "1023\n",
      "1155\n",
      "1210\n",
      "1325\n",
      "3077\n",
      "3263\n",
      "2178\n",
      "2267\n",
      "2089\n"
     ]
    }
   ],
   "source": [
    "# Melhorando a visibilidade das cidades\n",
    "naturezas = df['natureza_juridica'].unique()\n",
    "\n",
    "for n in naturezas:\n",
    "    print(n)"
   ]
  },
  {
   "cell_type": "code",
   "execution_count": 12,
   "id": "e1ab799f",
   "metadata": {
    "scrolled": true
   },
   "outputs": [],
   "source": [
    "# Excluindo possil dado sensível\n",
    "df.drop(columns='cnpj_basico', inplace=True)"
   ]
  },
  {
   "cell_type": "markdown",
   "id": "76b498f3",
   "metadata": {},
   "source": [
    "# 5 - Gerando a Busaca na Tabela"
   ]
  },
  {
   "cell_type": "code",
   "execution_count": null,
   "id": "35e25a3a",
   "metadata": {},
   "outputs": [],
   "source": []
  },
  {
   "cell_type": "code",
   "execution_count": 13,
   "id": "5cf90c86",
   "metadata": {},
   "outputs": [
    {
     "data": {
      "text/html": [
       "<div>\n",
       "<style scoped>\n",
       "    .dataframe tbody tr th:only-of-type {\n",
       "        vertical-align: middle;\n",
       "    }\n",
       "\n",
       "    .dataframe tbody tr th {\n",
       "        vertical-align: top;\n",
       "    }\n",
       "\n",
       "    .dataframe thead th {\n",
       "        text-align: right;\n",
       "    }\n",
       "</style>\n",
       "<table border=\"1\" class=\"dataframe\">\n",
       "  <thead>\n",
       "    <tr style=\"text-align: right;\">\n",
       "      <th></th>\n",
       "      <th>data</th>\n",
       "      <th>razao_social</th>\n",
       "      <th>natureza_juridica</th>\n",
       "      <th>qualificacao_responsavel</th>\n",
       "      <th>capital_social</th>\n",
       "      <th>porte</th>\n",
       "      <th>ente_federativo</th>\n",
       "    </tr>\n",
       "  </thead>\n",
       "  <tbody>\n",
       "    <tr>\n",
       "      <th>0</th>\n",
       "      <td>2021-11-23</td>\n",
       "      <td>NERY, ATHAYDE E ROCHA LTDA</td>\n",
       "      <td>2062</td>\n",
       "      <td>49</td>\n",
       "      <td>300000.0</td>\n",
       "      <td>5</td>\n",
       "      <td>None</td>\n",
       "    </tr>\n",
       "    <tr>\n",
       "      <th>1</th>\n",
       "      <td>2021-11-23</td>\n",
       "      <td>FIBRA FORTE DISTRIBUICAO E LOGISTICA EIRELI</td>\n",
       "      <td>2305</td>\n",
       "      <td>65</td>\n",
       "      <td>105000.0</td>\n",
       "      <td>1</td>\n",
       "      <td>None</td>\n",
       "    </tr>\n",
       "    <tr>\n",
       "      <th>2</th>\n",
       "      <td>2021-11-23</td>\n",
       "      <td>ANTONIO FRANCISCO DO NASCIMENTO 11159468893</td>\n",
       "      <td>2135</td>\n",
       "      <td>50</td>\n",
       "      <td>1665.0</td>\n",
       "      <td>1</td>\n",
       "      <td>None</td>\n",
       "    </tr>\n",
       "    <tr>\n",
       "      <th>3</th>\n",
       "      <td>2021-11-23</td>\n",
       "      <td>CILENE MELO DE FREITAS 45500240200</td>\n",
       "      <td>2135</td>\n",
       "      <td>50</td>\n",
       "      <td>2.0</td>\n",
       "      <td>1</td>\n",
       "      <td>None</td>\n",
       "    </tr>\n",
       "    <tr>\n",
       "      <th>4</th>\n",
       "      <td>2021-11-23</td>\n",
       "      <td>ESPECIAL PUBLICIDADE E PROPAGANDA LTDA</td>\n",
       "      <td>2062</td>\n",
       "      <td>49</td>\n",
       "      <td>200000.0</td>\n",
       "      <td>1</td>\n",
       "      <td>None</td>\n",
       "    </tr>\n",
       "  </tbody>\n",
       "</table>\n",
       "</div>"
      ],
      "text/plain": [
       "         data                                 razao_social natureza_juridica  \\\n",
       "0  2021-11-23                   NERY, ATHAYDE E ROCHA LTDA              2062   \n",
       "1  2021-11-23  FIBRA FORTE DISTRIBUICAO E LOGISTICA EIRELI              2305   \n",
       "2  2021-11-23  ANTONIO FRANCISCO DO NASCIMENTO 11159468893              2135   \n",
       "3  2021-11-23           CILENE MELO DE FREITAS 45500240200              2135   \n",
       "4  2021-11-23       ESPECIAL PUBLICIDADE E PROPAGANDA LTDA              2062   \n",
       "\n",
       "  qualificacao_responsavel  capital_social porte ente_federativo  \n",
       "0                       49        300000.0     5            None  \n",
       "1                       65        105000.0     1            None  \n",
       "2                       50          1665.0     1            None  \n",
       "3                       50             2.0     1            None  \n",
       "4                       49        200000.0     1            None  "
      ]
     },
     "execution_count": 13,
     "metadata": {},
     "output_type": "execute_result"
    }
   ],
   "source": [
    "df.head()"
   ]
  },
  {
   "cell_type": "code",
   "execution_count": 16,
   "id": "4ad241a7",
   "metadata": {},
   "outputs": [
    {
     "name": "stdout",
     "output_type": "stream",
     "text": [
      "Qual o porte da empresa (1, 3 ou 5): 1\n",
      "Qual a localidade da empresa: \n",
      "Qual a natureza juridica: \n",
      "Deseja baixar a busca?\n",
      " 1 Baixar\n",
      " 2 Apenas Retornar a Tabela\n",
      ":1\n",
      "Qual o nome do arquivo (Caso queira salvar a busca): Augusto\n"
     ]
    },
    {
     "data": {
      "text/html": [
       "<div>\n",
       "<style scoped>\n",
       "    .dataframe tbody tr th:only-of-type {\n",
       "        vertical-align: middle;\n",
       "    }\n",
       "\n",
       "    .dataframe tbody tr th {\n",
       "        vertical-align: top;\n",
       "    }\n",
       "\n",
       "    .dataframe thead th {\n",
       "        text-align: right;\n",
       "    }\n",
       "</style>\n",
       "<table border=\"1\" class=\"dataframe\">\n",
       "  <thead>\n",
       "    <tr style=\"text-align: right;\">\n",
       "      <th></th>\n",
       "      <th>data</th>\n",
       "      <th>razao_social</th>\n",
       "      <th>natureza_juridica</th>\n",
       "      <th>qualificacao_responsavel</th>\n",
       "      <th>capital_social</th>\n",
       "      <th>porte</th>\n",
       "      <th>ente_federativo</th>\n",
       "    </tr>\n",
       "  </thead>\n",
       "  <tbody>\n",
       "    <tr>\n",
       "      <th>1</th>\n",
       "      <td>2021-11-23</td>\n",
       "      <td>FIBRA FORTE DISTRIBUICAO E LOGISTICA EIRELI</td>\n",
       "      <td>2305</td>\n",
       "      <td>65</td>\n",
       "      <td>105000.0</td>\n",
       "      <td>1</td>\n",
       "      <td>None</td>\n",
       "    </tr>\n",
       "    <tr>\n",
       "      <th>2</th>\n",
       "      <td>2021-11-23</td>\n",
       "      <td>ANTONIO FRANCISCO DO NASCIMENTO 11159468893</td>\n",
       "      <td>2135</td>\n",
       "      <td>50</td>\n",
       "      <td>1665.0</td>\n",
       "      <td>1</td>\n",
       "      <td>None</td>\n",
       "    </tr>\n",
       "    <tr>\n",
       "      <th>3</th>\n",
       "      <td>2021-11-23</td>\n",
       "      <td>CILENE MELO DE FREITAS 45500240200</td>\n",
       "      <td>2135</td>\n",
       "      <td>50</td>\n",
       "      <td>2.0</td>\n",
       "      <td>1</td>\n",
       "      <td>None</td>\n",
       "    </tr>\n",
       "    <tr>\n",
       "      <th>4</th>\n",
       "      <td>2021-11-23</td>\n",
       "      <td>ESPECIAL PUBLICIDADE E PROPAGANDA LTDA</td>\n",
       "      <td>2062</td>\n",
       "      <td>49</td>\n",
       "      <td>200000.0</td>\n",
       "      <td>1</td>\n",
       "      <td>None</td>\n",
       "    </tr>\n",
       "    <tr>\n",
       "      <th>6</th>\n",
       "      <td>2021-11-23</td>\n",
       "      <td>OSCAR VICENTE BORTH</td>\n",
       "      <td>2135</td>\n",
       "      <td>50</td>\n",
       "      <td>35000.0</td>\n",
       "      <td>1</td>\n",
       "      <td>None</td>\n",
       "    </tr>\n",
       "    <tr>\n",
       "      <th>...</th>\n",
       "      <td>...</td>\n",
       "      <td>...</td>\n",
       "      <td>...</td>\n",
       "      <td>...</td>\n",
       "      <td>...</td>\n",
       "      <td>...</td>\n",
       "      <td>...</td>\n",
       "    </tr>\n",
       "    <tr>\n",
       "      <th>99995</th>\n",
       "      <td>2021-11-23</td>\n",
       "      <td>CONVICTA ESTRUTURAS METALICAS EIRELI</td>\n",
       "      <td>2305</td>\n",
       "      <td>65</td>\n",
       "      <td>80000.0</td>\n",
       "      <td>1</td>\n",
       "      <td>None</td>\n",
       "    </tr>\n",
       "    <tr>\n",
       "      <th>99996</th>\n",
       "      <td>2021-11-23</td>\n",
       "      <td>FM IMPORTS E-COMMERCE EIRELI</td>\n",
       "      <td>2305</td>\n",
       "      <td>65</td>\n",
       "      <td>80000.0</td>\n",
       "      <td>1</td>\n",
       "      <td>None</td>\n",
       "    </tr>\n",
       "    <tr>\n",
       "      <th>99997</th>\n",
       "      <td>2021-11-23</td>\n",
       "      <td>JOSE DILSON NOLETO VILARINHO - EIRELI</td>\n",
       "      <td>2305</td>\n",
       "      <td>65</td>\n",
       "      <td>80000.0</td>\n",
       "      <td>1</td>\n",
       "      <td>None</td>\n",
       "    </tr>\n",
       "    <tr>\n",
       "      <th>99998</th>\n",
       "      <td>2021-11-23</td>\n",
       "      <td>F. M. DE SANTANA REPRESENTACOES EIRELI</td>\n",
       "      <td>2305</td>\n",
       "      <td>65</td>\n",
       "      <td>80000.0</td>\n",
       "      <td>1</td>\n",
       "      <td>None</td>\n",
       "    </tr>\n",
       "    <tr>\n",
       "      <th>99999</th>\n",
       "      <td>2021-11-23</td>\n",
       "      <td>IMPERIAL NEGOCIOS IMOBILIARIOS EIRELI</td>\n",
       "      <td>2305</td>\n",
       "      <td>65</td>\n",
       "      <td>80000.0</td>\n",
       "      <td>1</td>\n",
       "      <td>None</td>\n",
       "    </tr>\n",
       "  </tbody>\n",
       "</table>\n",
       "<p>86524 rows × 7 columns</p>\n",
       "</div>"
      ],
      "text/plain": [
       "             data                                 razao_social  \\\n",
       "1      2021-11-23  FIBRA FORTE DISTRIBUICAO E LOGISTICA EIRELI   \n",
       "2      2021-11-23  ANTONIO FRANCISCO DO NASCIMENTO 11159468893   \n",
       "3      2021-11-23           CILENE MELO DE FREITAS 45500240200   \n",
       "4      2021-11-23       ESPECIAL PUBLICIDADE E PROPAGANDA LTDA   \n",
       "6      2021-11-23                          OSCAR VICENTE BORTH   \n",
       "...           ...                                          ...   \n",
       "99995  2021-11-23         CONVICTA ESTRUTURAS METALICAS EIRELI   \n",
       "99996  2021-11-23                 FM IMPORTS E-COMMERCE EIRELI   \n",
       "99997  2021-11-23        JOSE DILSON NOLETO VILARINHO - EIRELI   \n",
       "99998  2021-11-23       F. M. DE SANTANA REPRESENTACOES EIRELI   \n",
       "99999  2021-11-23        IMPERIAL NEGOCIOS IMOBILIARIOS EIRELI   \n",
       "\n",
       "      natureza_juridica qualificacao_responsavel  capital_social porte  \\\n",
       "1                  2305                       65        105000.0     1   \n",
       "2                  2135                       50          1665.0     1   \n",
       "3                  2135                       50             2.0     1   \n",
       "4                  2062                       49        200000.0     1   \n",
       "6                  2135                       50         35000.0     1   \n",
       "...                 ...                      ...             ...   ...   \n",
       "99995              2305                       65         80000.0     1   \n",
       "99996              2305                       65         80000.0     1   \n",
       "99997              2305                       65         80000.0     1   \n",
       "99998              2305                       65         80000.0     1   \n",
       "99999              2305                       65         80000.0     1   \n",
       "\n",
       "      ente_federativo  \n",
       "1                None  \n",
       "2                None  \n",
       "3                None  \n",
       "4                None  \n",
       "6                None  \n",
       "...               ...  \n",
       "99995            None  \n",
       "99996            None  \n",
       "99997            None  \n",
       "99998            None  \n",
       "99999            None  \n",
       "\n",
       "[86524 rows x 7 columns]"
      ]
     },
     "metadata": {},
     "output_type": "display_data"
    }
   ],
   "source": [
    "# Salvando em variaveis as buscas do usuario\n",
    "porte_empresa = input(\"Qual o porte da empresa (1, 3 ou 5): \")\n",
    "localidade_empresa = input(\"Qual a localidade da empresa: \")\n",
    "natureza_juridica = input(\"Qual a natureza juridica: \")\n",
    "baixar = input(\"Deseja baixar a busca?\\n 1 Baixar\\n 2 Apenas Retornar a Tabela\\n:\")\n",
    "nome = input(\"Qual o nome do arquivo (Caso queira salvar a busca): \")\n",
    "\n",
    "\n",
    "# Gerando a busca de forma fragmentada na tabela df\n",
    "busca_1 = df.loc[df['porte'] == porte_empresa]\n",
    "busca_2 = df.loc[df['porte'] == localidade_empresa]\n",
    "busca_3 = df.loc[df['porte'] == natureza_juridica]\n",
    "\n",
    "df_busca = pd.concat([busca_1, busca_2, busca_3])\n",
    "\n",
    "if baixar == '1' and len(nome) > 0:\n",
    "    display(df_busca)\n",
    "    df_busca.to_excel(f'buscas/{nome}.xlsx')\n",
    "\n",
    "elif baixar == '2':\n",
    "    display(df_busca)\n",
    "\n",
    "else:\n",
    "    print(\"Informe apenas as opções corretas para baixar o apenas visalizar a busca\")"
   ]
  }
 ],
 "metadata": {
  "kernelspec": {
   "display_name": "Python 3 (ipykernel)",
   "language": "python",
   "name": "python3"
  },
  "language_info": {
   "codemirror_mode": {
    "name": "ipython",
    "version": 3
   },
   "file_extension": ".py",
   "mimetype": "text/x-python",
   "name": "python",
   "nbconvert_exporter": "python",
   "pygments_lexer": "ipython3",
   "version": "3.10.11"
  }
 },
 "nbformat": 4,
 "nbformat_minor": 5
}
